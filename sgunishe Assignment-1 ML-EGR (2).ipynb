{
 "cells": [
  {
   "cell_type": "markdown",
   "id": "63a3e37e",
   "metadata": {},
   "source": [
    "# EE 658/758 Machine Learning in Engineering\n",
    "\n",
    "## Assignment 1: Linear Regression"
   ]
  },
  {
   "cell_type": "code",
   "execution_count": 1,
   "id": "c4e54ea0",
   "metadata": {},
   "outputs": [],
   "source": [
    "# Import necessary libraries\n",
    "import os\n",
    "import warnings\n",
    "\n",
    "warnings.filterwarnings('ignore')\n",
    "\n",
    "import pandas as pd\n",
    "import numpy as np\n",
    "import seaborn as sns\n",
    "import matplotlib.pyplot as plt\n",
    "from sklearn.model_selection import train_test_split\n",
    "from sklearn.linear_model import LinearRegression\n",
    "from sklearn.metrics import mean_squared_error, r2_score, mean_absolute_error\n",
    "from sklearn.preprocessing import MinMaxScaler\n",
    "from scipy.stats import zscore\n",
    "from scipy.stats import norm"
   ]
  },
  {
   "cell_type": "markdown",
   "id": "11f26e28",
   "metadata": {},
   "source": [
    "### 1.Data Preprocessing:"
   ]
  },
  {
   "cell_type": "code",
   "execution_count": 2,
   "id": "6da5fd0e",
   "metadata": {},
   "outputs": [
    {
     "data": {
      "text/html": [
       "<div>\n",
       "<style scoped>\n",
       "    .dataframe tbody tr th:only-of-type {\n",
       "        vertical-align: middle;\n",
       "    }\n",
       "\n",
       "    .dataframe tbody tr th {\n",
       "        vertical-align: top;\n",
       "    }\n",
       "\n",
       "    .dataframe thead th {\n",
       "        text-align: right;\n",
       "    }\n",
       "</style>\n",
       "<table border=\"1\" class=\"dataframe\">\n",
       "  <thead>\n",
       "    <tr style=\"text-align: right;\">\n",
       "      <th></th>\n",
       "      <th>Age</th>\n",
       "      <th>Gender</th>\n",
       "      <th>BMI</th>\n",
       "      <th>Children</th>\n",
       "      <th>Smoker</th>\n",
       "      <th>Region</th>\n",
       "      <th>Expenses</th>\n",
       "    </tr>\n",
       "  </thead>\n",
       "  <tbody>\n",
       "    <tr>\n",
       "      <th>0</th>\n",
       "      <td>19</td>\n",
       "      <td>female</td>\n",
       "      <td>27.9</td>\n",
       "      <td>0</td>\n",
       "      <td>yes</td>\n",
       "      <td>southwest</td>\n",
       "      <td>16884.92</td>\n",
       "    </tr>\n",
       "    <tr>\n",
       "      <th>1</th>\n",
       "      <td>18</td>\n",
       "      <td>male</td>\n",
       "      <td>33.8</td>\n",
       "      <td>1</td>\n",
       "      <td>no</td>\n",
       "      <td>southeast</td>\n",
       "      <td>1725.55</td>\n",
       "    </tr>\n",
       "    <tr>\n",
       "      <th>2</th>\n",
       "      <td>28</td>\n",
       "      <td>male</td>\n",
       "      <td>33.0</td>\n",
       "      <td>3</td>\n",
       "      <td>no</td>\n",
       "      <td>southeast</td>\n",
       "      <td>4449.46</td>\n",
       "    </tr>\n",
       "    <tr>\n",
       "      <th>3</th>\n",
       "      <td>33</td>\n",
       "      <td>male</td>\n",
       "      <td>22.7</td>\n",
       "      <td>0</td>\n",
       "      <td>no</td>\n",
       "      <td>northwest</td>\n",
       "      <td>21984.47</td>\n",
       "    </tr>\n",
       "    <tr>\n",
       "      <th>4</th>\n",
       "      <td>32</td>\n",
       "      <td>male</td>\n",
       "      <td>28.9</td>\n",
       "      <td>0</td>\n",
       "      <td>no</td>\n",
       "      <td>northwest</td>\n",
       "      <td>3866.86</td>\n",
       "    </tr>\n",
       "  </tbody>\n",
       "</table>\n",
       "</div>"
      ],
      "text/plain": [
       "   Age  Gender   BMI  Children Smoker     Region  Expenses\n",
       "0   19  female  27.9         0    yes  southwest  16884.92\n",
       "1   18    male  33.8         1     no  southeast   1725.55\n",
       "2   28    male  33.0         3     no  southeast   4449.46\n",
       "3   33    male  22.7         0     no  northwest  21984.47\n",
       "4   32    male  28.9         0     no  northwest   3866.86"
      ]
     },
     "execution_count": 2,
     "metadata": {},
     "output_type": "execute_result"
    }
   ],
   "source": [
    "file_path = 'insurance.csv'\n",
    "sample_size = 10\n",
    "data = pd.read_csv(file_path)\n",
    "data.head()"
   ]
  },
  {
   "cell_type": "code",
   "execution_count": 3,
   "id": "47451636",
   "metadata": {},
   "outputs": [
    {
     "name": "stdout",
     "output_type": "stream",
     "text": [
      "Number of rows with missing values: 17\n"
     ]
    }
   ],
   "source": [
    "\n",
    "\n",
    "num_rows_with_missing_values = data.isna().any(axis=1).sum()\n",
    "\n",
    "print(f\"Number of rows with missing values: {num_rows_with_missing_values}\")"
   ]
  },
  {
   "cell_type": "code",
   "execution_count": 4,
   "id": "0cf2b622",
   "metadata": {},
   "outputs": [
    {
     "data": {
      "text/html": [
       "<div>\n",
       "<style scoped>\n",
       "    .dataframe tbody tr th:only-of-type {\n",
       "        vertical-align: middle;\n",
       "    }\n",
       "\n",
       "    .dataframe tbody tr th {\n",
       "        vertical-align: top;\n",
       "    }\n",
       "\n",
       "    .dataframe thead th {\n",
       "        text-align: right;\n",
       "    }\n",
       "</style>\n",
       "<table border=\"1\" class=\"dataframe\">\n",
       "  <thead>\n",
       "    <tr style=\"text-align: right;\">\n",
       "      <th></th>\n",
       "      <th>Age</th>\n",
       "      <th>BMI</th>\n",
       "      <th>Children</th>\n",
       "      <th>Expenses</th>\n",
       "      <th>Gender_male</th>\n",
       "      <th>Smoker_yes</th>\n",
       "      <th>Region_northwest</th>\n",
       "      <th>Region_southeast</th>\n",
       "      <th>Region_southwest</th>\n",
       "    </tr>\n",
       "  </thead>\n",
       "  <tbody>\n",
       "    <tr>\n",
       "      <th>0</th>\n",
       "      <td>19</td>\n",
       "      <td>27.900000</td>\n",
       "      <td>0</td>\n",
       "      <td>16884.92</td>\n",
       "      <td>0</td>\n",
       "      <td>1</td>\n",
       "      <td>0</td>\n",
       "      <td>0</td>\n",
       "      <td>1</td>\n",
       "    </tr>\n",
       "    <tr>\n",
       "      <th>1</th>\n",
       "      <td>18</td>\n",
       "      <td>33.800000</td>\n",
       "      <td>1</td>\n",
       "      <td>1725.55</td>\n",
       "      <td>1</td>\n",
       "      <td>0</td>\n",
       "      <td>0</td>\n",
       "      <td>1</td>\n",
       "      <td>0</td>\n",
       "    </tr>\n",
       "    <tr>\n",
       "      <th>2</th>\n",
       "      <td>28</td>\n",
       "      <td>33.000000</td>\n",
       "      <td>3</td>\n",
       "      <td>4449.46</td>\n",
       "      <td>1</td>\n",
       "      <td>0</td>\n",
       "      <td>0</td>\n",
       "      <td>1</td>\n",
       "      <td>0</td>\n",
       "    </tr>\n",
       "    <tr>\n",
       "      <th>3</th>\n",
       "      <td>33</td>\n",
       "      <td>22.700000</td>\n",
       "      <td>0</td>\n",
       "      <td>21984.47</td>\n",
       "      <td>1</td>\n",
       "      <td>0</td>\n",
       "      <td>1</td>\n",
       "      <td>0</td>\n",
       "      <td>0</td>\n",
       "    </tr>\n",
       "    <tr>\n",
       "      <th>4</th>\n",
       "      <td>32</td>\n",
       "      <td>28.900000</td>\n",
       "      <td>0</td>\n",
       "      <td>3866.86</td>\n",
       "      <td>1</td>\n",
       "      <td>0</td>\n",
       "      <td>1</td>\n",
       "      <td>0</td>\n",
       "      <td>0</td>\n",
       "    </tr>\n",
       "    <tr>\n",
       "      <th>...</th>\n",
       "      <td>...</td>\n",
       "      <td>...</td>\n",
       "      <td>...</td>\n",
       "      <td>...</td>\n",
       "      <td>...</td>\n",
       "      <td>...</td>\n",
       "      <td>...</td>\n",
       "      <td>...</td>\n",
       "      <td>...</td>\n",
       "    </tr>\n",
       "    <tr>\n",
       "      <th>1333</th>\n",
       "      <td>50</td>\n",
       "      <td>31.000000</td>\n",
       "      <td>3</td>\n",
       "      <td>10600.55</td>\n",
       "      <td>1</td>\n",
       "      <td>0</td>\n",
       "      <td>1</td>\n",
       "      <td>0</td>\n",
       "      <td>0</td>\n",
       "    </tr>\n",
       "    <tr>\n",
       "      <th>1334</th>\n",
       "      <td>18</td>\n",
       "      <td>31.900000</td>\n",
       "      <td>0</td>\n",
       "      <td>2205.98</td>\n",
       "      <td>1</td>\n",
       "      <td>0</td>\n",
       "      <td>0</td>\n",
       "      <td>0</td>\n",
       "      <td>0</td>\n",
       "    </tr>\n",
       "    <tr>\n",
       "      <th>1335</th>\n",
       "      <td>18</td>\n",
       "      <td>30.676917</td>\n",
       "      <td>0</td>\n",
       "      <td>1629.83</td>\n",
       "      <td>0</td>\n",
       "      <td>0</td>\n",
       "      <td>0</td>\n",
       "      <td>1</td>\n",
       "      <td>0</td>\n",
       "    </tr>\n",
       "    <tr>\n",
       "      <th>1336</th>\n",
       "      <td>21</td>\n",
       "      <td>25.800000</td>\n",
       "      <td>0</td>\n",
       "      <td>2007.95</td>\n",
       "      <td>0</td>\n",
       "      <td>0</td>\n",
       "      <td>0</td>\n",
       "      <td>0</td>\n",
       "      <td>1</td>\n",
       "    </tr>\n",
       "    <tr>\n",
       "      <th>1337</th>\n",
       "      <td>61</td>\n",
       "      <td>29.100000</td>\n",
       "      <td>0</td>\n",
       "      <td>29141.36</td>\n",
       "      <td>0</td>\n",
       "      <td>1</td>\n",
       "      <td>1</td>\n",
       "      <td>0</td>\n",
       "      <td>0</td>\n",
       "    </tr>\n",
       "  </tbody>\n",
       "</table>\n",
       "<p>1338 rows × 9 columns</p>\n",
       "</div>"
      ],
      "text/plain": [
       "      Age        BMI  Children  Expenses  Gender_male  Smoker_yes  \\\n",
       "0      19  27.900000         0  16884.92            0           1   \n",
       "1      18  33.800000         1   1725.55            1           0   \n",
       "2      28  33.000000         3   4449.46            1           0   \n",
       "3      33  22.700000         0  21984.47            1           0   \n",
       "4      32  28.900000         0   3866.86            1           0   \n",
       "...   ...        ...       ...       ...          ...         ...   \n",
       "1333   50  31.000000         3  10600.55            1           0   \n",
       "1334   18  31.900000         0   2205.98            1           0   \n",
       "1335   18  30.676917         0   1629.83            0           0   \n",
       "1336   21  25.800000         0   2007.95            0           0   \n",
       "1337   61  29.100000         0  29141.36            0           1   \n",
       "\n",
       "      Region_northwest  Region_southeast  Region_southwest  \n",
       "0                    0                 0                 1  \n",
       "1                    0                 1                 0  \n",
       "2                    0                 1                 0  \n",
       "3                    1                 0                 0  \n",
       "4                    1                 0                 0  \n",
       "...                ...               ...               ...  \n",
       "1333                 1                 0                 0  \n",
       "1334                 0                 0                 0  \n",
       "1335                 0                 1                 0  \n",
       "1336                 0                 0                 1  \n",
       "1337                 1                 0                 0  \n",
       "\n",
       "[1338 rows x 9 columns]"
      ]
     },
     "execution_count": 4,
     "metadata": {},
     "output_type": "execute_result"
    }
   ],
   "source": [
    "for col_name in data.columns:\n",
    "    # Check if there are missing values in the column\n",
    "    if data[col_name].isnull().any():\n",
    "        # Fill missing values in categorical columns using mode, and numeric columns using mean\n",
    "        if data[col_name].dtype == 'object':  # Categorical column\n",
    "            mode_value = data[col_name].mode()[0]\n",
    "            data[col_name].fillna(mode_value, inplace=True)\n",
    "        else:  # Numeric column\n",
    "            mean_value = data[col_name].mean()\n",
    "            data[col_name].fillna(mean_value, inplace=True)\n",
    "\n",
    "# Binary Encoding for categorical columns with 2 unique values\n",
    "data = pd.get_dummies(data, drop_first=True)\n",
    "\n",
    "# One-Hot Encoding for categorical columns with more than 2 unique values\n",
    "data = pd.get_dummies(data)\n",
    "\n",
    "# Display the modified DataFrame\n",
    "data"
   ]
  },
  {
   "cell_type": "code",
   "execution_count": 5,
   "id": "a80f7376",
   "metadata": {},
   "outputs": [
    {
     "data": {
      "text/html": [
       "<div>\n",
       "<style scoped>\n",
       "    .dataframe tbody tr th:only-of-type {\n",
       "        vertical-align: middle;\n",
       "    }\n",
       "\n",
       "    .dataframe tbody tr th {\n",
       "        vertical-align: top;\n",
       "    }\n",
       "\n",
       "    .dataframe thead th {\n",
       "        text-align: right;\n",
       "    }\n",
       "</style>\n",
       "<table border=\"1\" class=\"dataframe\">\n",
       "  <thead>\n",
       "    <tr style=\"text-align: right;\">\n",
       "      <th></th>\n",
       "      <th>Age</th>\n",
       "      <th>BMI</th>\n",
       "      <th>Children</th>\n",
       "      <th>Expenses</th>\n",
       "      <th>Gender_male</th>\n",
       "      <th>Smoker_yes</th>\n",
       "      <th>Region_northwest</th>\n",
       "      <th>Region_southeast</th>\n",
       "      <th>Region_southwest</th>\n",
       "    </tr>\n",
       "  </thead>\n",
       "  <tbody>\n",
       "    <tr>\n",
       "      <th>0</th>\n",
       "      <td>0.021739</td>\n",
       "      <td>0.320755</td>\n",
       "      <td>0.481481</td>\n",
       "      <td>0.251611</td>\n",
       "      <td>0</td>\n",
       "      <td>1</td>\n",
       "      <td>0</td>\n",
       "      <td>0</td>\n",
       "      <td>1</td>\n",
       "    </tr>\n",
       "    <tr>\n",
       "      <th>1</th>\n",
       "      <td>0.000000</td>\n",
       "      <td>0.479784</td>\n",
       "      <td>0.488889</td>\n",
       "      <td>0.009636</td>\n",
       "      <td>1</td>\n",
       "      <td>0</td>\n",
       "      <td>0</td>\n",
       "      <td>1</td>\n",
       "      <td>0</td>\n",
       "    </tr>\n",
       "    <tr>\n",
       "      <th>2</th>\n",
       "      <td>0.217391</td>\n",
       "      <td>0.458221</td>\n",
       "      <td>0.503704</td>\n",
       "      <td>0.053115</td>\n",
       "      <td>1</td>\n",
       "      <td>0</td>\n",
       "      <td>0</td>\n",
       "      <td>1</td>\n",
       "      <td>0</td>\n",
       "    </tr>\n",
       "    <tr>\n",
       "      <th>3</th>\n",
       "      <td>0.326087</td>\n",
       "      <td>0.180593</td>\n",
       "      <td>0.481481</td>\n",
       "      <td>0.333010</td>\n",
       "      <td>1</td>\n",
       "      <td>0</td>\n",
       "      <td>1</td>\n",
       "      <td>0</td>\n",
       "      <td>0</td>\n",
       "    </tr>\n",
       "    <tr>\n",
       "      <th>4</th>\n",
       "      <td>0.304348</td>\n",
       "      <td>0.347709</td>\n",
       "      <td>0.481481</td>\n",
       "      <td>0.043816</td>\n",
       "      <td>1</td>\n",
       "      <td>0</td>\n",
       "      <td>1</td>\n",
       "      <td>0</td>\n",
       "      <td>0</td>\n",
       "    </tr>\n",
       "  </tbody>\n",
       "</table>\n",
       "</div>"
      ],
      "text/plain": [
       "        Age       BMI  Children  Expenses  Gender_male  Smoker_yes  \\\n",
       "0  0.021739  0.320755  0.481481  0.251611            0           1   \n",
       "1  0.000000  0.479784  0.488889  0.009636            1           0   \n",
       "2  0.217391  0.458221  0.503704  0.053115            1           0   \n",
       "3  0.326087  0.180593  0.481481  0.333010            1           0   \n",
       "4  0.304348  0.347709  0.481481  0.043816            1           0   \n",
       "\n",
       "   Region_northwest  Region_southeast  Region_southwest  \n",
       "0                 0                 0                 1  \n",
       "1                 0                 1                 0  \n",
       "2                 0                 1                 0  \n",
       "3                 1                 0                 0  \n",
       "4                 1                 0                 0  "
      ]
     },
     "execution_count": 5,
     "metadata": {},
     "output_type": "execute_result"
    }
   ],
   "source": [
    "columns_to_normalize = ['Age', 'BMI', 'Children', 'Expenses']\n",
    "\n",
    "scaler = MinMaxScaler()\n",
    "data[columns_to_normalize] = scaler.fit_transform(data[columns_to_normalize])\n",
    "\n",
    "data.head()"
   ]
  },
  {
   "cell_type": "markdown",
   "id": "62292141",
   "metadata": {},
   "source": [
    "### 2.Splitting the data:"
   ]
  },
  {
   "cell_type": "code",
   "execution_count": 6,
   "id": "c12da154",
   "metadata": {},
   "outputs": [
    {
     "name": "stdout",
     "output_type": "stream",
     "text": [
      "Features:\n",
      "        Age       BMI  Children  Gender_male  Smoker_yes  Region_northwest  \\\n",
      "0  0.021739  0.320755  0.481481            0           1                 0   \n",
      "1  0.000000  0.479784  0.488889            1           0                 0   \n",
      "2  0.217391  0.458221  0.503704            1           0                 0   \n",
      "3  0.326087  0.180593  0.481481            1           0                 1   \n",
      "4  0.304348  0.347709  0.481481            1           0                 1   \n",
      "\n",
      "   Region_southeast  Region_southwest  \n",
      "0                 0                 1  \n",
      "1                 1                 0  \n",
      "2                 1                 0  \n",
      "3                 0                 0  \n",
      "4                 0                 0  \n",
      "\n",
      "Target:\n",
      "0    0.251611\n",
      "1    0.009636\n",
      "2    0.053115\n",
      "3    0.333010\n",
      "4    0.043816\n",
      "Name: Expenses, dtype: float64\n"
     ]
    }
   ],
   "source": [
    "# Features are all columns except 'Expenses'\n",
    "features = data.drop(columns=['Expenses'])\n",
    "\n",
    "# Target is the 'Expenses' column\n",
    "target = data['Expenses']\n",
    "\n",
    "# Display the features and target\n",
    "print(\"Features:\")\n",
    "print(features.head())\n",
    "\n",
    "print(\"\\nTarget:\")\n",
    "print(target.head())"
   ]
  },
  {
   "cell_type": "code",
   "execution_count": 7,
   "id": "38e6b6d0",
   "metadata": {},
   "outputs": [
    {
     "name": "stdout",
     "output_type": "stream",
     "text": [
      "Training set - Features shape: (1003, 8)\n",
      "Testing set - Features shape: (335, 8)\n",
      "Training set - Target shape: (1003,)\n",
      "Testing set - Target shape: (335,)\n"
     ]
    }
   ],
   "source": [
    "X_train, X_test, y_train, y_test = train_test_split(features, target, test_size=0.25, random_state=42)\n",
    "\n",
    "# Display the shapes of the training and testing sets\n",
    "print(\"Training set - Features shape:\", X_train.shape)\n",
    "print(\"Testing set - Features shape:\", X_test.shape)\n",
    "print(\"Training set - Target shape:\", y_train.shape)\n",
    "print(\"Testing set - Target shape:\", y_test.shape)"
   ]
  },
  {
   "cell_type": "markdown",
   "id": "a67c1d42",
   "metadata": {},
   "source": [
    "### 3.Gradient Descent Implementation:\n",
    "Implement the gradient descent algorithm (without the Scikit-Learn library) to find the regression line. Initialize parameters randomly and update them iteratively to minimize the loss function. Record the loss value for each iteration:"
   ]
  },
  {
   "cell_type": "markdown",
   "id": "fe470f5a",
   "metadata": {},
   "source": [
    "#### show the coefficients and intercept of the model:"
   ]
  },
  {
   "cell_type": "code",
   "execution_count": 8,
   "id": "d619d1ca",
   "metadata": {},
   "outputs": [
    {
     "name": "stdout",
     "output_type": "stream",
     "text": [
      "Coefficients: [ 0.20052245  0.03897394 -0.01526573  0.00038553  0.37617007 -0.00090051\n",
      "  0.00861438 -0.00286272]\n",
      "Intercept: 0.015583795239775211\n"
     ]
    }
   ],
   "source": [
    "N_train, D_train = X_train.shape\n",
    "N_test, D_test = X_test.shape\n",
    "\n",
    "# Ensure both training and test sets have the same number of features\n",
    "D_train == D_test, \"Number of features in training and test sets must match\"\n",
    "\n",
    "# Reshape bias to have the same number of rows as X\n",
    "train_bias = np.ones((N_train, 1))\n",
    "test_bias = np.ones((N_test, 1))\n",
    "\n",
    "# Concatenate bias column to the training and test data\n",
    "X_bias_train = np.concatenate((X_train, train_bias), axis=1)\n",
    "X_bias_test = np.concatenate((X_test, test_bias), axis=1)\n",
    "\n",
    "alpha = 0.01                  # Learning rate\n",
    "n_iterations = 10000   # Number of iterations\n",
    "W = np.random.randn(D_train+1)  # Weight matrix\n",
    "\n",
    "loss = []                          # Loss value for each iteration\n",
    "for iteration in range(n_iterations):\n",
    "    # Calculate gradients\n",
    "    gradients = 1/N_train * X_bias_train.T.dot(X_bias_train.dot(W) - y_train)\n",
    "    \n",
    "    # Update weights using gradients\n",
    "    W = W - alpha * gradients\n",
    "    \n",
    "    # Calculate predictions and loss\n",
    "    predictions = X_bias_train.dot(W)\n",
    "    loss.append(mean_squared_error(y_train, predictions))\n",
    "\n",
    "# Coefficients of the model\n",
    "coefficients = W[:-1]\n",
    "intercept = W[-1]\n",
    "\n",
    "print(\"Coefficients:\", coefficients)\n",
    "print(\"Intercept:\", intercept)"
   ]
  },
  {
   "cell_type": "markdown",
   "id": "f85c826b",
   "metadata": {},
   "source": [
    "#### Modify the code to implement the exponential decay method for the learning rate:"
   ]
  },
  {
   "cell_type": "code",
   "execution_count": 9,
   "id": "e4c967a2",
   "metadata": {},
   "outputs": [
    {
     "name": "stdout",
     "output_type": "stream",
     "text": [
      "Coefficient: [ 0.14360727  0.51515865 -0.27732445 -0.04504583  0.36105489 -0.08881111\n",
      " -0.00689888 -0.05575751]\n",
      "intecept: 0.0507056371860053\n"
     ]
    }
   ],
   "source": [
    "# Set up variables\n",
    "costs_decaying = []\n",
    "learning_rate_decaying = 0.001\n",
    "decay_rate = 0.1\n",
    "num_iterations = 100\n",
    "\n",
    "# Randomly initialize weights\n",
    "w_decay = np.random.randn(D_train + 1) / np.sqrt(D_train + 1)\n",
    "\n",
    "# Define the iteration numbers\n",
    "t = 100\n",
    "for i in range(t):\n",
    "    # Perform the updates without using a for loop\n",
    "    Yhat_train_decaying = X_bias_train.dot(w_decay)\n",
    "    delta_train_decaying = Yhat_train_decaying - y_train\n",
    "    w_decay = w_decay - learning_rate_decaying * X_bias_train.T.dot(delta_train_decaying)\n",
    "\n",
    "    # Calculate and store the cost for decaying learning rate\n",
    "    mse_train_decaying = np.mean(delta_train_decaying ** 2)\n",
    "    costs_decaying.append(mse_train_decaying)\n",
    "     # Calculate the decaying learning rate\n",
    "    learning_rate_decaying *= (1.0 / (1.0 + decay_rate * i))\n",
    "\n",
    "\n",
    "print(f\"Coefficient: {w_decay[:-1]}\")\n",
    "print(f\"intecept: {w_decay[-1]}\")"
   ]
  },
  {
   "cell_type": "markdown",
   "id": "d4bd3da8",
   "metadata": {},
   "source": [
    "#### Plot the loss values as a function of the number of iterations for the constant and decaying learning rates."
   ]
  },
  {
   "cell_type": "code",
   "execution_count": 10,
   "id": "ce3a3f84",
   "metadata": {},
   "outputs": [
    {
     "data": {
      "image/png": "[encoded data removed]",
      "text/plain": [
       "<Figure size 1200x600 with 1 Axes>"
      ]
     },
     "metadata": {},
     "output_type": "display_data"
    }
   ],
   "source": [
    "# Create a new figure\n",
    "plt.figure(figsize=(12, 6))\n",
    "\n",
    "# Plot the loss values for constant learning rate\n",
    "plt.plot(loss, label='Constant Learning Rate')\n",
    "\n",
    "plt.xlabel('Iterations')\n",
    "plt.ylabel('Loss')\n",
    "plt.title('Loss vs. Iterations')\n",
    "plt.legend()\n",
    "\n",
    "# Show the plot\n",
    "plt.show()"
   ]
  },
  {
   "cell_type": "code",
   "execution_count": 11,
   "id": "7f4a07eb",
   "metadata": {},
   "outputs": [
    {
     "data": {
      "image/png": "[encoded data removed]",
      "text/plain": [
       "<Figure size 1200x600 with 1 Axes>"
      ]
     },
     "metadata": {},
     "output_type": "display_data"
    }
   ],
   "source": [
    "# Create a new figure\n",
    "plt.figure(figsize=(12, 6))\n",
    "\n",
    "# Plot the loss values for decaying learning rate\n",
    "plt.plot(costs_decaying, label='Decaying Learning Rate')\n",
    "\n",
    "plt.xlabel('Iterations')\n",
    "plt.ylabel('Loss')\n",
    "plt.title('Loss vs. Iterations')\n",
    "plt.legend()\n",
    "\n",
    "# Show the plot\n",
    "plt.show()"
   ]
  },
  {
   "cell_type": "markdown",
   "id": "8104542a",
   "metadata": {},
   "source": [
    "### 4. Predict the expenses for the testing dataset using the trained model.\n",
    "Compute the Mean Absolute Error (MAE) and Mean Squared Error (MSE) of the predictions."
   ]
  },
  {
   "cell_type": "code",
   "execution_count": 12,
   "id": "c59e98df",
   "metadata": {},
   "outputs": [
    {
     "name": "stdout",
     "output_type": "stream",
     "text": [
      "Mean Squared Error with constant Learning Rate: 0.009758820333597745\n",
      "Mean Absolute Error with constant Learning Rate: 0.06501497813878306\n",
      "\n",
      "\n",
      "Mean Squared Error with decaying Learning Rate: 0.014500371259615511\n",
      "Mean Absolute Error with decaying Learning Rate: 0.0954256243225537\n"
     ]
    }
   ],
   "source": [
    "y_pred_constant = X_bias_test.dot(W)\n",
    "\n",
    "print(f\"Mean Squared Error with constant Learning Rate: {mean_squared_error(y_test, y_pred_constant)}\")\n",
    "print(f\"Mean Absolute Error with constant Learning Rate: {mean_absolute_error(y_test, y_pred_constant)}\")\n",
    "print()\n",
    "\n",
    "y_pred_decay = X_bias_test.dot(w_decay)\n",
    "\n",
    "print()\n",
    "print(f\"Mean Squared Error with decaying Learning Rate: {mean_squared_error(y_test, y_pred_decay)}\")\n",
    "print(f\"Mean Absolute Error with decaying Learning Rate: {mean_absolute_error(y_test, y_pred_decay)}\")"
   ]
  },
  {
   "cell_type": "markdown",
   "id": "5ee41bff",
   "metadata": {},
   "source": [
    "#### Plot a histogram of the error distribution."
   ]
  },
  {
   "cell_type": "code",
   "execution_count": 13,
   "id": "ea2202d7",
   "metadata": {},
   "outputs": [
    {
     "data": {
      "image/png": "[encoded data removed]",
      "text/plain": [
       "<Figure size 800x600 with 1 Axes>"
      ]
     },
     "metadata": {},
     "output_type": "display_data"
    }
   ],
   "source": [
    "# Plot histogram\n",
    "plt.figure(figsize=(8, 6))\n",
    "plt.hist(loss, bins=20, color='blue', alpha=0.5)\n",
    "plt.title('Histogram of Errors (when learning rate is constant)')\n",
    "plt.xlabel('Error')\n",
    "plt.ylabel('Frequency')\n",
    "plt.show()"
   ]
  },
  {
   "cell_type": "code",
   "execution_count": 14,
   "id": "d0934e2c",
   "metadata": {},
   "outputs": [
    {
     "data": {
      "image/png": "[encoded data removed]",
      "text/plain": [
       "<Figure size 800x600 with 1 Axes>"
      ]
     },
     "metadata": {},
     "output_type": "display_data"
    }
   ],
   "source": [
    "# Plot histogram\n",
    "plt.figure(figsize=(8, 6))\n",
    "plt.hist(costs_decaying, bins=20, color='blue', alpha=0.5)\n",
    "plt.title('Histogram of Errors (when learning rate is decaying)')\n",
    "plt.xlabel('Error')\n",
    "plt.ylabel('Frequency')\n",
    "plt.show()"
   ]
  },
  {
   "cell_type": "markdown",
   "id": "3dfd5fff",
   "metadata": {},
   "source": [
    "### 5. Learning Rate Analysis:\n",
    "Demonstrate the effect of varying the learning rate on the convergence of the gradient descent algorithm"
   ]
  },
  {
   "cell_type": "code",
   "execution_count": 15,
   "id": "4e6a7347",
   "metadata": {},
   "outputs": [
    {
     "data": {
      "image/png": "[encoded data removed]",
      "text/plain": [
       "<Figure size 1000x600 with 1 Axes>"
      ]
     },
     "metadata": {},
     "output_type": "display_data"
    }
   ],
   "source": [
    "# Function to train the LinearRegression model with different learning rates and plot the loss curve\n",
    "def train_and_plot_learning_rate_effect(X_train, y_train, learning_rates):\n",
    "    plt.figure(figsize=(10, 6))\n",
    "    for initial_learning_rate in learning_rates:\n",
    "        # Initialize weights randomly\n",
    "        D_train = X_train.shape[1]\n",
    "        w_decay = np.random.randn(D_train + 1) / np.sqrt(D_train + 1)\n",
    "        \n",
    "        costs_decaying = []\n",
    "        decay_rate = 0.1\n",
    "        learning_rate = initial_learning_rate\n",
    "        \n",
    "        for t in range(1000):\n",
    "            # Append bias term to features\n",
    "            bias = np.ones((X_train.shape[0], 1))\n",
    "            X_bias_train = np.concatenate((X_train, bias), axis=1)\n",
    "\n",
    "            # Update weights with decaying learning rate\n",
    "            Yhat_train_decaying = X_bias_train.dot(w_decay)\n",
    "            delta_train_decaying = Yhat_train_decaying - y_train\n",
    "            w_decay = w_decay - learning_rate * X_bias_train.T.dot(delta_train_decaying)\n",
    "\n",
    "            # Find and store the cost for decaying learning rate\n",
    "            mse_train_decaying = np.mean(delta_train_decaying ** 2)\n",
    "            costs_decaying.append(mse_train_decaying)\n",
    "\n",
    "            # Update learning rate with exponential decay\n",
    "            learning_rate *= (1.0 / (1.0 + decay_rate * t))\n",
    "\n",
    "        # Plot the loss curve for the current learning rate\n",
    "        iterations = np.arange(len(costs_decaying))\n",
    "        plt.plot(iterations, costs_decaying, label=f'Learning Rate: {initial_learning_rate}')\n",
    "\n",
    "    plt.xlabel('Iterations')\n",
    "    plt.ylabel('Loss')\n",
    "    plt.title('Effect of Learning Rate on Convergence')\n",
    "    plt.legend()\n",
    "    plt.show()\n",
    "\n",
    "# Example usage:\n",
    "# Assuming X_train and y_train are the training features and target respectively\n",
    "# Define a range of learning rates to test\n",
    "learning_rates = [0.001, 0.01, 0.1, 0.5, 1.0]\n",
    "\n",
    "# Call the function to train and plot the effect of different learning rates\n",
    "train_and_plot_learning_rate_effect(X_train, y_train, learning_rates)"
   ]
  },
  {
   "cell_type": "markdown",
   "id": "6465b236",
   "metadata": {},
   "source": [
    "## 6. Scikit-learn Implementation:\n",
    "Repeat the regression using the linear_model.LinearRegression class from scikit-learn.\n",
    "\n",
    "Compute MAE and MSE for comparison."
   ]
  },
  {
   "cell_type": "code",
   "execution_count": 16,
   "id": "a91cd8dc",
   "metadata": {},
   "outputs": [
    {
     "name": "stdout",
     "output_type": "stream",
     "text": [
      "Mean Squared Error: 0.009041340761262135\n",
      "Mean Absolute Error: 0.06810533992326168\n"
     ]
    }
   ],
   "source": [
    "regressor = LinearRegression()\n",
    "\n",
    "regressor.fit(X_train, y_train)\n",
    "\n",
    "y_pred = regressor.predict(X_test)\n",
    "\n",
    "print(f\"Mean Squared Error: {mean_squared_error(y_test, y_pred)}\")\n",
    "print(f\"Mean Absolute Error: {mean_absolute_error(y_test, y_pred)}\")"
   ]
  },
  {
   "cell_type": "markdown",
   "id": "ef59dd49",
   "metadata": {},
   "source": [
    "### 7. Normal Equation Implementation:\n",
    "Use the normal equation method to find the regression line directly."
   ]
  },
  {
   "cell_type": "code",
   "execution_count": 17,
   "id": "946fb7db",
   "metadata": {},
   "outputs": [
    {
     "name": "stdout",
     "output_type": "stream",
     "text": [
      "the r-squared for train data is: 0.7433347546449494\n"
     ]
    }
   ],
   "source": [
    "w = np.linalg.solve(np.dot(X_bias_train.T, X_bias_train), np.dot(X_bias_train.T, y_train))\n",
    "Yhat = np.dot(X_bias_train, w)\n",
    "\n",
    "\n",
    "# determine how good the model is by computing the r-squared\n",
    "d1 = y_train - Yhat\n",
    "d2 = y_train - y_train.mean()\n",
    "r2 = 1 - d1.dot(d1) / d2.dot(d2)\n",
    "print(\"the r-squared for train data is:\", r2)"
   ]
  },
  {
   "cell_type": "code",
   "execution_count": 18,
   "id": "71887bfa",
   "metadata": {},
   "outputs": [
    {
     "name": "stdout",
     "output_type": "stream",
     "text": [
      "the r-squared for test data is: 0.7706512905011024\n"
     ]
    }
   ],
   "source": [
    "w = np.linalg.solve(np.dot(X_bias_test.T, X_bias_test), np.dot(X_bias_test.T, y_test))\n",
    "Yhat = np.dot(X_bias_test, w)\n",
    "\n",
    "\n",
    "# determine how good the model is by computing the r-squared\n",
    "d1 = y_test - Yhat\n",
    "d2 = y_test - y_test.mean()\n",
    "r2 = 1 - d1.dot(d1) / d2.dot(d2)\n",
    "print(\"the r-squared for test data is:\", r2)"
   ]
  },
  {
   "cell_type": "markdown",
   "id": "e7502d88",
   "metadata": {},
   "source": [
    "#### Compare the MAE and MSE with previous methods"
   ]
  },
  {
   "cell_type": "markdown",
   "id": "e48c5b15",
   "metadata": {},
   "source": [
    "#### 1. The values of MSE determined from Normal equation implementation are"
   ]
  },
  {
   "cell_type": "markdown",
   "id": "f883a73f",
   "metadata": {},
   "source": [
    "The Mean Squared Error for train data is: 0.7433347546449494\n",
    "\n",
    "The Mean Squared Error for test data is: 0.7706512905011024"
   ]
  },
  {
   "cell_type": "markdown",
   "id": "f59451be",
   "metadata": {},
   "source": [
    "#### 2. The values of MAE and MSE obtained by Scikit-learn Implementation are:"
   ]
  },
  {
   "cell_type": "markdown",
   "id": "34a8887d",
   "metadata": {},
   "source": [
    "Mean Absolute Error: 0.06810533992326168\n",
    "\n",
    "Mean Squared Error: 0.009041340761262135"
   ]
  },
  {
   "cell_type": "markdown",
   "id": "a8378954",
   "metadata": {},
   "source": [
    "#### 3. Values of MAE and MSE obtained by Predicting the expenses for the testing dataset using the trained model are:"
   ]
  },
  {
   "cell_type": "markdown",
   "id": "40e1bb91",
   "metadata": {},
   "source": [
    "#### The MAE and MSE for gradient descent algorithm:(constant learning rate)"
   ]
  },
  {
   "cell_type": "markdown",
   "id": "3385e56c",
   "metadata": {},
   "source": [
    "Mean Absolute Error: 0.06957346520019507\n",
    "\n",
    "Mean Squared Error: 0.010741474013340246"
   ]
  },
  {
   "cell_type": "markdown",
   "id": "4149e476",
   "metadata": {},
   "source": [
    "#### The MAE and MSE for exponential decay method:"
   ]
  },
  {
   "cell_type": "markdown",
   "id": "24cb8054",
   "metadata": {},
   "source": [
    "Mean Absolute Error: 0.12043742044873948\n",
    "\n",
    "Mean Squared Error: 0.023359615667354897"
   ]
  },
  {
   "cell_type": "markdown",
   "id": "9e611453",
   "metadata": {},
   "source": [
    "* The Scikit-Learn implementation achieved the lowest MAE and MSE, indicating it is the most accurate among the methods.\n",
    "* The Gradient Descent algorithm performed slightly worse than Scikit-Learn in terms of both MAE and MSE.\n",
    "* The Normal Equation Implementation performed better than the Gradient Descent Algorithm in terms of MSE but worse in terms of MAE.\n",
    "* The Exponential Decay Method performed the worst in terms of both MAE and MSE"
   ]
  },
  {
   "cell_type": "markdown",
   "id": "d0cf07e7",
   "metadata": {},
   "source": [
    "So in terms of accuracy, the methods can be ranked:\n",
    "\n",
    "Scikit-Learn, Gradient Descent, Normal Equation, Exponential Decay."
   ]
  },
  {
   "cell_type": "markdown",
   "id": "6f216859",
   "metadata": {},
   "source": [
    "### 8. Comparison"
   ]
  },
  {
   "cell_type": "markdown",
   "id": "c000644d",
   "metadata": {},
   "source": [
    "#### Compare the three solutions in terms of MAE, MSE, and computational efficiency.\n"
   ]
  },
  {
   "cell_type": "markdown",
   "id": "d979ddb6",
   "metadata": {},
   "source": [
    "#### Gradient Descent with Constant Learning Rate:"
   ]
  },
  {
   "cell_type": "markdown",
   "id": "150f8576",
   "metadata": {},
   "source": [
    "MAE: 0.0695\n",
    "\n",
    "MSE: 0.0107"
   ]
  },
  {
   "cell_type": "markdown",
   "id": "2b4b2ec0",
   "metadata": {},
   "source": [
    "Computational Efficiency: Medium\n",
    "\n",
    "* It requires iterating over a fixed number of iterations (10,000 in this case), which might be computationally expensive for large datasets. However, it has the advantage of being able to handle large datasets efficiently due to its iterative nature."
   ]
  },
  {
   "cell_type": "markdown",
   "id": "72114aa4",
   "metadata": {},
   "source": [
    "#### Gradient Descent with Exponential Decaying Learning Rate:"
   ]
  },
  {
   "cell_type": "markdown",
   "id": "1c2d5afc",
   "metadata": {},
   "source": [
    "MAE: 0.12043\n",
    "\n",
    "MSE: 0.02335"
   ]
  },
  {
   "cell_type": "markdown",
   "id": "b1600dc4",
   "metadata": {},
   "source": [
    "Computational Efficiency: Similar to the constant learning rate gradient descent\n",
    "\n",
    "* It also requires iterating over a fixed number of iterations (10,000) but with the addition of a decaying learning rate, which might help converge faster compared to a constant learning rate. However, in this particular implementation, it seems that the learning rate decay might be too aggressive, leading to worse performance."
   ]
  },
  {
   "cell_type": "markdown",
   "id": "8633114a",
   "metadata": {},
   "source": [
    "#### Scikit-learn Linear Regression:"
   ]
  },
  {
   "cell_type": "markdown",
   "id": "8ff968c7",
   "metadata": {},
   "source": [
    "MAE: 0.0681\n",
    "\n",
    "MSE: 0.00904"
   ]
  },
  {
   "cell_type": "markdown",
   "id": "41b28bf5",
   "metadata": {},
   "source": [
    "Computational Efficiency: High\n",
    "\n",
    "* Scikit-learn's Linear Regression implementation typically utilizes optimized numerical libraries (like BLAS/LAPACK) under the hood, making it computationally efficient. It also provides good performance out-of-the-box without requiring manual tuning of learning rates or other hyperparameters."
   ]
  },
  {
   "cell_type": "markdown",
   "id": "72e18347",
   "metadata": {},
   "source": [
    "#### Normal Equation:"
   ]
  },
  {
   "cell_type": "markdown",
   "id": "b996a060",
   "metadata": {},
   "source": [
    "MSE for train data: 0.7433\n",
    "\n",
    "MSE for test data: 0.7706"
   ]
  },
  {
   "cell_type": "markdown",
   "id": "cdc311a5",
   "metadata": {},
   "source": [
    "Computational Efficiency: Medium\n",
    "\n",
    "* The normal equation provides a closed-form solution to linear regression, which can be computationally expensive for large datasets due to matrix inversions. However, for small to medium-sized datasets, it can be efficient and provides accurate results without the need for iterative optimization."
   ]
  },
  {
   "cell_type": "markdown",
   "id": "05e71c53",
   "metadata": {},
   "source": [
    "##### Conclusion:"
   ]
  },
  {
   "cell_type": "markdown",
   "id": "6eda4c60",
   "metadata": {},
   "source": [
    "* Scikit-learn: Practical choice for good accuracy and efficiency across varied datasets.\n",
    "\n",
    "* Gradient Descent: Offers flexibility and potential for optimization, but requires tuning and understanding.\n",
    "\n",
    "* Normal Equation: Mainly considered for smaller datasets or theoretical understanding, as its efficiency scales poorly."
   ]
  },
  {
   "cell_type": "code",
   "execution_count": null,
   "id": "7367f7c2",
   "metadata": {},
   "outputs": [],
   "source": []
  }
 ],
 "metadata": {
  "kernelspec": {
   "display_name": "Python 3 (ipykernel)",
   "language": "python",
   "name": "python3"
  },
  "language_info": {
   "codemirror_mode": {
    "name": "ipython",
    "version": 3
   },
   "file_extension": ".py",
   "mimetype": "text/x-python",
   "name": "python",
   "nbconvert_exporter": "python",
   "pygments_lexer": "ipython3",
   "version": "3.11.5"
  }
 },
 "nbformat": 4,
 "nbformat_minor": 5
}
